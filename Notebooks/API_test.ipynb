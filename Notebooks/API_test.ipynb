{
 "cells": [
  {
   "cell_type": "markdown",
   "metadata": {},
   "source": [
    "# Trying the API"
   ]
  },
  {
   "cell_type": "markdown",
   "metadata": {},
   "source": [
    "## Imports"
   ]
  },
  {
   "cell_type": "markdown",
   "metadata": {},
   "source": [
    "Must start mongo and Api server with:\n",
    "    <p>sudo service mongod start</p>\n",
    "    <p>python3 api.py</p>"
   ]
  },
  {
   "cell_type": "code",
   "execution_count": 4,
   "metadata": {},
   "outputs": [],
   "source": [
    "import requests\n",
    "import json"
   ]
  },
  {
   "cell_type": "code",
   "execution_count": 5,
   "metadata": {},
   "outputs": [],
   "source": [
    "def api_request(endpoint=None, params=None):\n",
    "    url = \"http://0.0.0.0:3500/\" + endpoint if endpoint else \"http://0.0.0.0:3500/\"\n",
    "    res = requests.get(url,\n",
    "                      params = params)\n",
    "    return res.json()"
   ]
  },
  {
   "cell_type": "markdown",
   "metadata": {},
   "source": [
    "## Adding a user"
   ]
  },
  {
   "cell_type": "code",
   "execution_count": 47,
   "metadata": {},
   "outputs": [
    {
     "data": {
      "text/plain": [
       "{'_id': {'$oid': '5eac2cc67bfc0d4f44361cb7'},\n",
       " 'name': 'David',\n",
       " 'created': '2020-05-01 16:05:58.734749',\n",
       " 'chats': []}"
      ]
     },
     "execution_count": 47,
     "metadata": {},
     "output_type": "execute_result"
    }
   ],
   "source": [
    "api_request('user/create/David')"
   ]
  },
  {
   "cell_type": "code",
   "execution_count": 48,
   "metadata": {},
   "outputs": [
    {
     "data": {
      "text/plain": [
       "{'message': 'The user already exist, please use a different name',\n",
       " 'status': 'error'}"
      ]
     },
     "execution_count": 48,
     "metadata": {},
     "output_type": "execute_result"
    }
   ],
   "source": [
    "api_request('user/create/David')"
   ]
  },
  {
   "cell_type": "code",
   "execution_count": 55,
   "metadata": {},
   "outputs": [],
   "source": [
    "users = ['Pepe', 'Clara', 'Juana', 'Leandro']\n",
    "for u in users:\n",
    "    endpoint = 'user/create/'+u\n",
    "    api_request(endpoint)"
   ]
  },
  {
   "cell_type": "markdown",
   "metadata": {},
   "source": [
    "## Get a user:"
   ]
  },
  {
   "cell_type": "code",
   "execution_count": 38,
   "metadata": {},
   "outputs": [
    {
     "data": {
      "text/plain": [
       "{'user': '{\"_id\": {\"$oid\": \"5ead4e1e58c9181da4f9325c\"}, \"name\": \"LUKE\", \"created\": \"2020-05-02 12:40:30.347540\"}',\n",
       " 'user_chats': ['2',\n",
       "  '4',\n",
       "  '5',\n",
       "  '6',\n",
       "  '8',\n",
       "  '9',\n",
       "  '12',\n",
       "  '13',\n",
       "  '14',\n",
       "  '16',\n",
       "  '17',\n",
       "  '18',\n",
       "  '19',\n",
       "  '20']}"
      ]
     },
     "execution_count": 38,
     "metadata": {},
     "output_type": "execute_result"
    }
   ],
   "source": [
    "api_request('user/LUKE')"
   ]
  },
  {
   "cell_type": "markdown",
   "metadata": {},
   "source": [
    "# import requests\n",
    "import json\n",
    "!sudo service mongod start"
   ]
  },
  {
   "cell_type": "code",
   "execution_count": 183,
   "metadata": {},
   "outputs": [
    {
     "data": {
      "text/plain": [
       "{'message': 'The user does not exist, you can create it by using the endpoint /user/create/<name>',\n",
       " 'status': 'error'}"
      ]
     },
     "execution_count": 183,
     "metadata": {},
     "output_type": "execute_result"
    }
   ],
   "source": [
    "api_request('user/nouser')"
   ]
  },
  {
   "cell_type": "markdown",
   "metadata": {},
   "source": [
    "## Creating a chat "
   ]
  },
  {
   "cell_type": "code",
   "execution_count": 77,
   "metadata": {},
   "outputs": [
    {
     "data": {
      "text/plain": [
       "{'message': 'We succeded in creating the chat!',\n",
       " 'result': '{\"_id\": {\"$oid\": \"5eac34c936d5d1bbb2a0f5b9\"}, \"name\": \"Family\", \"participants\": []}'}"
      ]
     },
     "execution_count": 77,
     "metadata": {},
     "output_type": "execute_result"
    }
   ],
   "source": [
    "api_request('chat/create/Family')"
   ]
  },
  {
   "cell_type": "code",
   "execution_count": 182,
   "metadata": {},
   "outputs": [
    {
     "data": {
      "text/plain": [
       "{'message': 'That name is already in use, please use another name',\n",
       " 'status': 'error'}"
      ]
     },
     "execution_count": 182,
     "metadata": {},
     "output_type": "execute_result"
    }
   ],
   "source": [
    "api_request('chat/create/Family')"
   ]
  },
  {
   "cell_type": "code",
   "execution_count": 83,
   "metadata": {},
   "outputs": [
    {
     "data": {
      "text/plain": [
       "{'message': 'We succeded in creating the chat!',\n",
       " 'result': '{\"_id\": {\"$oid\": \"5eac3558e3468a2493af8d55\"}, \"name\": \"Politics\", \"participants\": [{\"$oid\": \"5eac2cc67bfc0d4f44361cb7\"}]}'}"
      ]
     },
     "execution_count": 83,
     "metadata": {},
     "output_type": "execute_result"
    }
   ],
   "source": [
    "api_request('chat/create/Politics', params={'user':'David'})"
   ]
  },
  {
   "cell_type": "code",
   "execution_count": 135,
   "metadata": {},
   "outputs": [
    {
     "data": {
      "text/plain": [
       "{'message': 'We succeded in creating the chat!',\n",
       " 'result': '{\"_id\": {\"$oid\": \"5eac43b5ddfd642fb48b72ed\"}, \"name\": \"Movies\", \"participants\": [{\"$oid\": \"5eac2cc67bfc0d4f44361cb7\"}, {\"$oid\": \"5eac2dec7bfc0d4f44361cb9\"}]}'}"
      ]
     },
     "execution_count": 135,
     "metadata": {},
     "output_type": "execute_result"
    }
   ],
   "source": [
    "api_request('chat/create/Movies', params={'user':'David',\n",
    "                                          'user2':'Clara'})"
   ]
  },
  {
   "cell_type": "markdown",
   "metadata": {},
   "source": [
    "## Adding one more member in a chat"
   ]
  },
  {
   "cell_type": "code",
   "execution_count": 136,
   "metadata": {},
   "outputs": [
    {
     "data": {
      "text/plain": [
       "{'Chat': '{\"_id\": {\"$oid\": \"5eac43b5ddfd642fb48b72ed\"}, \"name\": \"Movies\", \"participants\": [{\"$oid\": \"5eac2cc67bfc0d4f44361cb7\"}, {\"$oid\": \"5eac2dec7bfc0d4f44361cb9\"}, {\"$oid\": \"5eac2dec7bfc0d4f44361cbb\"}]}',\n",
       " 'Message': 'We succeded in adding the user'}"
      ]
     },
     "execution_count": 136,
     "metadata": {},
     "output_type": "execute_result"
    }
   ],
   "source": [
    "api_request('chat/add_user', params={'chat':'Movies','user':'Leandro'})"
   ]
  },
  {
   "cell_type": "code",
   "execution_count": 181,
   "metadata": {},
   "outputs": [
    {
     "data": {
      "text/plain": [
       "{'message': 'That user is already in the chat', 'status': 'error'}"
      ]
     },
     "execution_count": 181,
     "metadata": {},
     "output_type": "execute_result"
    }
   ],
   "source": [
    "api_request('chat/add_user', params={'chat':'Movies','user':'Leandro'})"
   ]
  },
  {
   "cell_type": "markdown",
   "metadata": {},
   "source": [
    "## Adding a message"
   ]
  },
  {
   "cell_type": "code",
   "execution_count": 247,
   "metadata": {},
   "outputs": [
    {
     "data": {
      "text/plain": [
       "{'entry': '{\"_id\": {\"$oid\": \"5eac617ca3c2d89ea3a9854d\"}, \"chat\": {\"$oid\": \"5eac43b5ddfd642fb48b72ed\"}, \"user\": {\"$oid\": \"5eac2cc67bfc0d4f44361cb7\"}, \"time\": \"2020-05-01 19:50:52.802326\", \"text\": \"That was a really cool movie\"}',\n",
       " 'status': 'We succeded in adding the message and added the user to the chat'}"
      ]
     },
     "execution_count": 247,
     "metadata": {},
     "output_type": "execute_result"
    }
   ],
   "source": [
    "api_request('message/David/add/', params={'chat':'Movies','text':'That was a really cool movie'})"
   ]
  },
  {
   "cell_type": "code",
   "execution_count": 255,
   "metadata": {},
   "outputs": [
    {
     "data": {
      "text/plain": [
       "{'entry': '{\"_id\": {\"$oid\": \"5eac61f6a3c2d89ea3a98550\"}, \"chat\": {\"$oid\": \"5eac43b5ddfd642fb48b72ed\"}, \"user\": {\"$oid\": \"5eac2dec7bfc0d4f44361cb9\"}, \"time\": \"2020-05-01 19:52:54.464031\", \"text\": \"Yes, that was the best movie I have ever seen\"}',\n",
       " 'status': 'We succeded in adding the message and added the user to the chat'}"
      ]
     },
     "execution_count": 255,
     "metadata": {},
     "output_type": "execute_result"
    }
   ],
   "source": [
    "api_request('message/Clara/add/', params={'chat':'Movies','text':'Yes, that was the best movie I have ever seen'})"
   ]
  },
  {
   "cell_type": "code",
   "execution_count": 256,
   "metadata": {},
   "outputs": [
    {
     "data": {
      "text/plain": [
       "{'message': 'That user does not exist, you can create it with the endpoint /user/create/<user_name>',\n",
       " 'status': 'error'}"
      ]
     },
     "execution_count": 256,
     "metadata": {},
     "output_type": "execute_result"
    }
   ],
   "source": [
    "api_request('message/noname/add/', params={'chat':'Movies','text':'Yes, so good'})"
   ]
  },
  {
   "cell_type": "code",
   "execution_count": 280,
   "metadata": {},
   "outputs": [
    {
     "data": {
      "text/plain": [
       "{'entry': '{\"_id\": {\"$oid\": \"5eac62bee134338d84fc421a\"}, \"chat\": {\"$oid\": \"5eac43b5ddfd642fb48b72ed\"}, \"user\": {\"$oid\": \"5eac2dec7bfc0d4f44361cb8\"}, \"time\": \"2020-05-01 19:56:14.307952\", \"text\": \"Yes, so good\"}',\n",
       " 'status': 'We succeded in adding the message and added the user to the chat'}"
      ]
     },
     "execution_count": 280,
     "metadata": {},
     "output_type": "execute_result"
    }
   ],
   "source": [
    "api_request('message/Juana/add/', params={'chat':'Movies','text':'Yes, so good'})"
   ]
  },
  {
   "cell_type": "markdown",
   "metadata": {},
   "source": [
    "## Listing messages of a chat"
   ]
  },
  {
   "cell_type": "code",
   "execution_count": 21,
   "metadata": {},
   "outputs": [
    {
     "data": {
      "text/plain": [
       "{'0': {'name': 'VADER',\n",
       "  'text': \"I've been waiting for you, Obi-Wan.  We meet again, at last.  The circle is now complete.\",\n",
       "  'time': '2020-05-02 12:40:38.565051'},\n",
       " '1': {'name': 'VADER',\n",
       "  'text': 'When I left you, I was but the learner; now I am the master.',\n",
       "  'time': '2020-05-02 12:40:38.574419'},\n",
       " '2': {'name': 'BEN',\n",
       "  'text': 'Only a master of evil, Darth.',\n",
       "  'time': '2020-05-02 12:40:38.582511'},\n",
       " '3': {'name': 'VADER',\n",
       "  'text': 'Your powers are weak, old man.',\n",
       "  'time': '2020-05-02 12:40:38.592629'},\n",
       " '4': {'name': 'BEN',\n",
       "  'text': \"You can't win, Darth.  If you strike me down, I shall become more powerful than you can possibly imagine.\",\n",
       "  'time': '2020-05-02 12:40:38.603336'}}"
      ]
     },
     "execution_count": 21,
     "metadata": {},
     "output_type": "execute_result"
    }
   ],
   "source": [
    "api_request('message/15/list')"
   ]
  },
  {
   "cell_type": "markdown",
   "metadata": {},
   "source": [
    "## Sentiment analysis of a chat:"
   ]
  },
  {
   "cell_type": "code",
   "execution_count": 42,
   "metadata": {},
   "outputs": [
    {
     "data": {
      "text/plain": [
       "{'compound': 0.5614, 'neg': 0.088, 'neu': 0.784, 'pos': 0.128}"
      ]
     },
     "execution_count": 42,
     "metadata": {},
     "output_type": "execute_result"
    }
   ],
   "source": [
    "api_request('chat/2/sentiment')"
   ]
  },
  {
   "cell_type": "markdown",
   "metadata": {},
   "source": [
    "## Sentiment analysis of a user:"
   ]
  },
  {
   "cell_type": "code",
   "execution_count": 164,
   "metadata": {},
   "outputs": [
    {
     "data": {
      "text/plain": [
       "{'compound': 0.9972, 'neg': 0.075, 'neu': 0.705, 'pos': 0.219}"
      ]
     },
     "execution_count": 164,
     "metadata": {},
     "output_type": "execute_result"
    }
   ],
   "source": [
    "api_request('user/LUKE/sentiment')"
   ]
  },
  {
   "cell_type": "code",
   "execution_count": 165,
   "metadata": {},
   "outputs": [
    {
     "data": {
      "text/plain": [
       "{'compound': -0.9602, 'neg': 0.235, 'neu': 0.634, 'pos': 0.131}"
      ]
     },
     "execution_count": 165,
     "metadata": {},
     "output_type": "execute_result"
    }
   ],
   "source": [
    "api_request('user/VADER/sentiment')"
   ]
  },
  {
   "cell_type": "markdown",
   "metadata": {},
   "source": [
    "## Recommender:"
   ]
  },
  {
   "cell_type": "code",
   "execution_count": 156,
   "metadata": {},
   "outputs": [
    {
     "data": {
      "text/plain": [
       "{'Similar users': ['HAN', 'BIGGS', 'LEIA']}"
      ]
     },
     "execution_count": 156,
     "metadata": {},
     "output_type": "execute_result"
    }
   ],
   "source": [
    "api_request('/user/LUKE/recommend',{'type':'sentiment'})"
   ]
  },
  {
   "cell_type": "code",
   "execution_count": 157,
   "metadata": {},
   "outputs": [
    {
     "data": {
      "text/plain": [
       "{'Similar users': ['HAN', 'BIGGS', 'BEN']}"
      ]
     },
     "execution_count": 157,
     "metadata": {},
     "output_type": "execute_result"
    }
   ],
   "source": [
    "api_request('/user/LUKE/recommend',{'type':'similar'})"
   ]
  },
  {
   "cell_type": "code",
   "execution_count": 158,
   "metadata": {},
   "outputs": [
    {
     "data": {
      "text/plain": [
       "{'Similar users': ['BEN', 'HAN', 'LUKE']}"
      ]
     },
     "execution_count": 158,
     "metadata": {},
     "output_type": "execute_result"
    }
   ],
   "source": [
    "api_request('/user/VADER/recommend',{'type':'similar'})"
   ]
  },
  {
   "cell_type": "code",
   "execution_count": 159,
   "metadata": {},
   "outputs": [
    {
     "data": {
      "text/plain": [
       "{'Similar users': ['MOTTI', 'TARKIN', 'TAGGE']}"
      ]
     },
     "execution_count": 159,
     "metadata": {},
     "output_type": "execute_result"
    }
   ],
   "source": [
    "api_request('/user/VADER/recommend',{'type':'sentiment'})"
   ]
  },
  {
   "cell_type": "code",
   "execution_count": 162,
   "metadata": {},
   "outputs": [
    {
     "data": {
      "text/plain": [
       "{'message': 'This endpoint requires a paramether type= \"similar\" or type=\"sentiment\"',\n",
       " 'status': 'error'}"
      ]
     },
     "execution_count": 162,
     "metadata": {},
     "output_type": "execute_result"
    }
   ],
   "source": [
    "api_request('/user/VADER/recommend')"
   ]
  },
  {
   "cell_type": "code",
   "execution_count": 161,
   "metadata": {},
   "outputs": [
    {
     "data": {
      "text/plain": [
       "{'message': 'The type parameter must be either \"similar\" or \"sentiment\"',\n",
       " 'status': 'error'}"
      ]
     },
     "execution_count": 161,
     "metadata": {},
     "output_type": "execute_result"
    }
   ],
   "source": [
    "api_request('/user/VADER/recommend',{'type':'ñlkj'})"
   ]
  },
  {
   "cell_type": "code",
   "execution_count": null,
   "metadata": {},
   "outputs": [],
   "source": []
  },
  {
   "cell_type": "code",
   "execution_count": null,
   "metadata": {},
   "outputs": [],
   "source": []
  },
  {
   "cell_type": "code",
   "execution_count": 18,
   "metadata": {},
   "outputs": [
    {
     "data": {
      "text/plain": [
       "<pymongo.results.DeleteResult at 0x7ff87ac18fc8>"
      ]
     },
     "execution_count": 18,
     "metadata": {},
     "output_type": "execute_result"
    }
   ],
   "source": [
    "db.users.delete_many({})\n",
    "db.chats.delete_many({})\n",
    "db.messages.delete_many({})"
   ]
  },
  {
   "cell_type": "code",
   "execution_count": 270,
   "metadata": {},
   "outputs": [],
   "source": [
    "chat_id = db.chats.find_one({'name':'Movies'},{'_id':1})['_id']\n",
    "user_id = db.users.find_one({'name':'Juana'},{'_id':1})['_id']\n"
   ]
  },
  {
   "cell_type": "code",
   "execution_count": 10,
   "metadata": {},
   "outputs": [],
   "source": [
    "from pymongo import MongoClient\n",
    "client = MongoClient('mongodb://localhost/chats')\n",
    "db = client.get_database()"
   ]
  }
 ],
 "metadata": {
  "kernelspec": {
   "display_name": "Python 3.6.9 64-bit",
   "language": "python",
   "name": "python36964bit36b15ce491344c3aaf77177bbb6e80c7"
  },
  "language_info": {
   "codemirror_mode": {
    "name": "ipython",
    "version": 3
   },
   "file_extension": ".py",
   "mimetype": "text/x-python",
   "name": "python",
   "nbconvert_exporter": "python",
   "pygments_lexer": "ipython3",
   "version": "3.6.9"
  }
 },
 "nbformat": 4,
 "nbformat_minor": 2
}
