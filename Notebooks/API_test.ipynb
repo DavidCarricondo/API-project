{
 "cells": [
  {
   "cell_type": "markdown",
   "metadata": {},
   "source": [
    "# Trying the API"
   ]
  },
  {
   "cell_type": "markdown",
   "metadata": {},
   "source": [
    "## Imports"
   ]
  },
  {
   "cell_type": "code",
   "execution_count": 39,
   "metadata": {},
   "outputs": [],
   "source": [
    "import requests\n",
    "import json"
   ]
  },
  {
   "cell_type": "code",
   "execution_count": 46,
   "metadata": {},
   "outputs": [],
   "source": [
    "def api_request(endpoint=None, params=None):\n",
    "    url = \"http://0.0.0.0:3500/\" + endpoint if endpoint else \"http://0.0.0.0:3500/\"\n",
    "    res = requests.get(url,\n",
    "                      params = params)\n",
    "    return res.json()"
   ]
  },
  {
   "cell_type": "markdown",
   "metadata": {},
   "source": [
    "## Adding a user"
   ]
  },
  {
   "cell_type": "code",
   "execution_count": 47,
   "metadata": {},
   "outputs": [
    {
     "data": {
      "text/plain": [
       "{'_id': {'$oid': '5eac2cc67bfc0d4f44361cb7'},\n",
       " 'name': 'David',\n",
       " 'created': '2020-05-01 16:05:58.734749',\n",
       " 'chats': []}"
      ]
     },
     "execution_count": 47,
     "metadata": {},
     "output_type": "execute_result"
    }
   ],
   "source": [
    "api_request('user/create/David')"
   ]
  },
  {
   "cell_type": "code",
   "execution_count": 48,
   "metadata": {},
   "outputs": [
    {
     "data": {
      "text/plain": [
       "{'message': 'The user already exist, please use a different name',\n",
       " 'status': 'error'}"
      ]
     },
     "execution_count": 48,
     "metadata": {},
     "output_type": "execute_result"
    }
   ],
   "source": [
    "api_request('user/create/David')"
   ]
  },
  {
   "cell_type": "code",
   "execution_count": 55,
   "metadata": {},
   "outputs": [],
   "source": [
    "users = ['Pepe', 'Clara', 'Juana', 'Leandro']\n",
    "for u in users:\n",
    "    endpoint = 'user/create/'+u\n",
    "    api_request(endpoint)"
   ]
  },
  {
   "cell_type": "markdown",
   "metadata": {},
   "source": [
    "## Get a user:"
   ]
  },
  {
   "cell_type": "code",
   "execution_count": 70,
   "metadata": {},
   "outputs": [
    {
     "data": {
      "text/plain": [
       "{'_id': {'$oid': '5eac2cc67bfc0d4f44361cb7'},\n",
       " 'name': 'David',\n",
       " 'created': '2020-05-01 16:05:58.734749',\n",
       " 'chats': []}"
      ]
     },
     "execution_count": 70,
     "metadata": {},
     "output_type": "execute_result"
    }
   ],
   "source": [
    "\n",
    "api_request('user/David')"
   ]
  },
  {
   "cell_type": "code",
   "execution_count": 71,
   "metadata": {},
   "outputs": [
    {
     "data": {
      "text/plain": [
       "{'message': 'The user does not exist, you can create it by using the endpoint /user/create/<name>',\n",
       " 'status': 'error'}"
      ]
     },
     "execution_count": 71,
     "metadata": {},
     "output_type": "execute_result"
    }
   ],
   "source": [
    "api_request('user/nouser')"
   ]
  },
  {
   "cell_type": "markdown",
   "metadata": {},
   "source": [
    "## Creating a chat "
   ]
  },
  {
   "cell_type": "code",
   "execution_count": 77,
   "metadata": {},
   "outputs": [
    {
     "data": {
      "text/plain": [
       "{'message': 'We succeded in creating the chat!',\n",
       " 'result': '{\"_id\": {\"$oid\": \"5eac34c936d5d1bbb2a0f5b9\"}, \"name\": \"Family\", \"participants\": []}'}"
      ]
     },
     "execution_count": 77,
     "metadata": {},
     "output_type": "execute_result"
    }
   ],
   "source": [
    "api_request('chat/create/Family')"
   ]
  },
  {
   "cell_type": "code",
   "execution_count": 78,
   "metadata": {},
   "outputs": [
    {
     "data": {
      "text/plain": [
       "{'message': 'That name is already in use, please use another name',\n",
       " 'status': 'error'}"
      ]
     },
     "execution_count": 78,
     "metadata": {},
     "output_type": "execute_result"
    }
   ],
   "source": [
    "api_request('chat/create/Family')"
   ]
  },
  {
   "cell_type": "code",
   "execution_count": 83,
   "metadata": {},
   "outputs": [
    {
     "data": {
      "text/plain": [
       "{'message': 'We succeded in creating the chat!',\n",
       " 'result': '{\"_id\": {\"$oid\": \"5eac3558e3468a2493af8d55\"}, \"name\": \"Politics\", \"participants\": [{\"$oid\": \"5eac2cc67bfc0d4f44361cb7\"}]}'}"
      ]
     },
     "execution_count": 83,
     "metadata": {},
     "output_type": "execute_result"
    }
   ],
   "source": [
    "api_request('chat/create/Politics', params={'user':'David'})"
   ]
  },
  {
   "cell_type": "code",
   "execution_count": 135,
   "metadata": {},
   "outputs": [
    {
     "data": {
      "text/plain": [
       "{'message': 'We succeded in creating the chat!',\n",
       " 'result': '{\"_id\": {\"$oid\": \"5eac43b5ddfd642fb48b72ed\"}, \"name\": \"Movies\", \"participants\": [{\"$oid\": \"5eac2cc67bfc0d4f44361cb7\"}, {\"$oid\": \"5eac2dec7bfc0d4f44361cb9\"}]}'}"
      ]
     },
     "execution_count": 135,
     "metadata": {},
     "output_type": "execute_result"
    }
   ],
   "source": [
    "api_request('chat/create/Movies', params={'user':'David',\n",
    "                                          'user2':'Clara'})"
   ]
  },
  {
   "cell_type": "markdown",
   "metadata": {},
   "source": [
    "## Adding one more member in a chat"
   ]
  },
  {
   "cell_type": "code",
   "execution_count": 136,
   "metadata": {},
   "outputs": [
    {
     "data": {
      "text/plain": [
       "{'Chat': '{\"_id\": {\"$oid\": \"5eac43b5ddfd642fb48b72ed\"}, \"name\": \"Movies\", \"participants\": [{\"$oid\": \"5eac2cc67bfc0d4f44361cb7\"}, {\"$oid\": \"5eac2dec7bfc0d4f44361cb9\"}, {\"$oid\": \"5eac2dec7bfc0d4f44361cbb\"}]}',\n",
       " 'Message': 'We succeded in adding the user'}"
      ]
     },
     "execution_count": 136,
     "metadata": {},
     "output_type": "execute_result"
    }
   ],
   "source": [
    "api_request('chat/add_user', params={'chat':'Movies','user':'Leandro'})"
   ]
  },
  {
   "cell_type": "code",
   "execution_count": 137,
   "metadata": {},
   "outputs": [
    {
     "data": {
      "text/plain": [
       "{'message': 'That user is already in the chat', 'status': 'error'}"
      ]
     },
     "execution_count": 137,
     "metadata": {},
     "output_type": "execute_result"
    }
   ],
   "source": [
    "api_request('chat/add_user', params={'chat':'Movies','user':'Leandro'})"
   ]
  },
  {
   "cell_type": "code",
   "execution_count": 108,
   "metadata": {},
   "outputs": [],
   "source": []
  },
  {
   "cell_type": "code",
   "execution_count": 129,
   "metadata": {},
   "outputs": [],
   "source": []
  },
  {
   "cell_type": "code",
   "execution_count": null,
   "metadata": {},
   "outputs": [],
   "source": []
  },
  {
   "cell_type": "code",
   "execution_count": null,
   "metadata": {},
   "outputs": [],
   "source": []
  },
  {
   "cell_type": "code",
   "execution_count": null,
   "metadata": {},
   "outputs": [],
   "source": []
  },
  {
   "cell_type": "code",
   "execution_count": 130,
   "metadata": {},
   "outputs": [
    {
     "data": {
      "text/plain": [
       "[ObjectId('5eac2cc67bfc0d4f44361cb7'),\n",
       " ObjectId('5eac2dec7bfc0d4f44361cb9'),\n",
       " ObjectId('5eac2dec7bfc0d4f44361cbb')]"
      ]
     },
     "execution_count": 130,
     "metadata": {},
     "output_type": "execute_result"
    }
   ],
   "source": [
    "[e['participants'] for e in cur ][0]\n"
   ]
  },
  {
   "cell_type": "code",
   "execution_count": 97,
   "metadata": {},
   "outputs": [
    {
     "data": {
      "text/plain": [
       "ObjectId('5eac2dec7bfc0d4f44361cbb')"
      ]
     },
     "execution_count": 97,
     "metadata": {},
     "output_type": "execute_result"
    }
   ],
   "source": [
    "db.users.find_one({'name':'Leandro'},{'_id':1})['_id']"
   ]
  },
  {
   "cell_type": "code",
   "execution_count": 62,
   "metadata": {},
   "outputs": [],
   "source": [
    "from pymongo import MongoClient\n",
    "client = MongoClient('mongodb://localhost/chats')\n",
    "db = client.get_database()"
   ]
  }
 ],
 "metadata": {
  "kernelspec": {
   "display_name": "Python 3.6.9 64-bit",
   "language": "python",
   "name": "python36964bit36b15ce491344c3aaf77177bbb6e80c7"
  },
  "language_info": {
   "codemirror_mode": {
    "name": "ipython",
    "version": 3
   },
   "file_extension": ".py",
   "mimetype": "text/x-python",
   "name": "python",
   "nbconvert_exporter": "python",
   "pygments_lexer": "ipython3",
   "version": "3.6.9"
  }
 },
 "nbformat": 4,
 "nbformat_minor": 2
}
