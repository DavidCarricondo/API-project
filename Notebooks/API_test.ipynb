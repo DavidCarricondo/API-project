{
 "cells": [
  {
   "cell_type": "markdown",
   "metadata": {},
   "source": [
    "# Trying the API"
   ]
  },
  {
   "cell_type": "markdown",
   "metadata": {},
   "source": [
    "## Imports"
   ]
  },
  {
   "cell_type": "code",
   "execution_count": 2,
   "metadata": {},
   "outputs": [],
   "source": [
    "import requests\n",
    "import json"
   ]
  },
  {
   "cell_type": "code",
   "execution_count": 1,
   "metadata": {},
   "outputs": [],
   "source": [
    "#Function to extract json responses from a request to my API.\n",
    "def api_request(endpoint=None, params=None):\n",
    "    url = \"http://api-project-ih.herokuapp.com/\" + endpoint if endpoint else \"http://api-project-ih.herokuapp.com/\"\n",
    "    res = requests.get(url,\n",
    "                      params = params)\n",
    "    return res.json()"
   ]
  },
  {
   "cell_type": "markdown",
   "metadata": {},
   "source": [
    "## Welcome message"
   ]
  },
  {
   "cell_type": "code",
   "execution_count": 9,
   "metadata": {},
   "outputs": [
    {
     "data": {
      "text/plain": [
       "'Welcome to the chat recommender!'"
      ]
     },
     "execution_count": 9,
     "metadata": {},
     "output_type": "execute_result"
    }
   ],
   "source": [
    "res = requests.get('http://api-project-ih.herokuapp.com/')\n",
    "res.text"
   ]
  },
  {
   "cell_type": "markdown",
   "metadata": {},
   "source": [
    "## Adding a user"
   ]
  },
  {
   "cell_type": "markdown",
   "metadata": {},
   "source": [
    "Create a new user:\n"
   ]
  },
  {
   "cell_type": "code",
   "execution_count": 10,
   "metadata": {},
   "outputs": [
    {
     "data": {
      "text/plain": [
       "{'result': '{\"_id\": {\"$oid\": \"5eafdb446f908dc415e0c396\"}, \"name\": \"YODA\", \"created\": \"2020-05-04 09:07:16.984060\", \"chats\": []}'}"
      ]
     },
     "execution_count": 10,
     "metadata": {},
     "output_type": "execute_result"
    }
   ],
   "source": [
    "api_request('user/create/YODA')"
   ]
  },
  {
   "cell_type": "markdown",
   "metadata": {},
   "source": [
    "Forcing the 'user exist' error: "
   ]
  },
  {
   "cell_type": "code",
   "execution_count": 11,
   "metadata": {},
   "outputs": [
    {
     "data": {
      "text/plain": [
       "{'message': 'The user already exist, please use a different name',\n",
       " 'status': 'error'}"
      ]
     },
     "execution_count": 11,
     "metadata": {},
     "output_type": "execute_result"
    }
   ],
   "source": [
    "api_request('user/create/YODA')"
   ]
  },
  {
   "cell_type": "markdown",
   "metadata": {},
   "source": [
    "Adding a list of users:"
   ]
  },
  {
   "cell_type": "code",
   "execution_count": 12,
   "metadata": {},
   "outputs": [],
   "source": [
    "users = ['LANDO', 'JAR-JAR', 'QUI-GON', 'DARTH-MAUL']\n",
    "for u in users:\n",
    "    endpoint = 'user/create/'+u\n",
    "    api_request(endpoint)"
   ]
  },
  {
   "cell_type": "markdown",
   "metadata": {},
   "source": [
    "## Get a user:"
   ]
  },
  {
   "cell_type": "markdown",
   "metadata": {},
   "source": [
    "Return a user with the user id, name, date of creation, and chats where the user is participant:"
   ]
  },
  {
   "cell_type": "code",
   "execution_count": 14,
   "metadata": {},
   "outputs": [
    {
     "data": {
      "text/plain": [
       "{'user': '{\"_id\": {\"$oid\": \"5eaef30db2a1eddbe451d917\"}, \"name\": \"LUKE\", \"created\": \"2020-05-03 16:36:29.558531\"}',\n",
       " 'user_chats': ['2',\n",
       "  '4',\n",
       "  '5',\n",
       "  '6',\n",
       "  '8',\n",
       "  '9',\n",
       "  '12',\n",
       "  '13',\n",
       "  '14',\n",
       "  '16',\n",
       "  '17',\n",
       "  '18',\n",
       "  '19',\n",
       "  '20']}"
      ]
     },
     "execution_count": 14,
     "metadata": {},
     "output_type": "execute_result"
    }
   ],
   "source": [
    "api_request('user/LUKE')"
   ]
  },
  {
   "cell_type": "markdown",
   "metadata": {},
   "source": [
    "Forcing a 'user does not exist' error:"
   ]
  },
  {
   "cell_type": "code",
   "execution_count": 27,
   "metadata": {},
   "outputs": [
    {
     "data": {
      "text/plain": [
       "{'message': 'The user does not exist, you can create it by using the endpoint /user/create/<name>',\n",
       " 'status': 'error'}"
      ]
     },
     "execution_count": 27,
     "metadata": {},
     "output_type": "execute_result"
    }
   ],
   "source": [
    "api_request('user/nouser')"
   ]
  },
  {
   "cell_type": "markdown",
   "metadata": {},
   "source": [
    "## Creating a chat "
   ]
  },
  {
   "cell_type": "markdown",
   "metadata": {},
   "source": [
    "Create new chat:"
   ]
  },
  {
   "cell_type": "code",
   "execution_count": 28,
   "metadata": {},
   "outputs": [
    {
     "data": {
      "text/plain": [
       "{'message': 'We succeded in creating the chat!',\n",
       " 'result': '{\"_id\": {\"$oid\": \"5eafe25d600f7debfe0ec2fb\"}, \"name\": \"meet_yoda\", \"participants\": []}'}"
      ]
     },
     "execution_count": 28,
     "metadata": {},
     "output_type": "execute_result"
    }
   ],
   "source": [
    "api_request('chat/create/meet_yoda')"
   ]
  },
  {
   "cell_type": "markdown",
   "metadata": {},
   "source": [
    "Forcing 'chat exist' error:"
   ]
  },
  {
   "cell_type": "code",
   "execution_count": 29,
   "metadata": {},
   "outputs": [
    {
     "data": {
      "text/plain": [
       "{'message': 'That name is already in use, please use another name',\n",
       " 'status': 'error'}"
      ]
     },
     "execution_count": 29,
     "metadata": {},
     "output_type": "execute_result"
    }
   ],
   "source": [
    "api_request('chat/create/meet_yoda')"
   ]
  },
  {
   "cell_type": "markdown",
   "metadata": {},
   "source": [
    "Create chat with one or more participants:"
   ]
  },
  {
   "cell_type": "code",
   "execution_count": 30,
   "metadata": {},
   "outputs": [
    {
     "data": {
      "text/plain": [
       "{'message': 'We succeded in creating the chat!',\n",
       " 'result': '{\"_id\": {\"$oid\": \"5eafe26d600f7debfe0ec2fc\"}, \"name\": \"new_chat\", \"participants\": [{\"$oid\": \"5eaef30eb2a1eddbe451d919\"}]}'}"
      ]
     },
     "execution_count": 30,
     "metadata": {},
     "output_type": "execute_result"
    }
   ],
   "source": [
    "api_request('chat/create/new_chat', params={'user':'VADER'})"
   ]
  },
  {
   "cell_type": "code",
   "execution_count": 31,
   "metadata": {},
   "outputs": [
    {
     "data": {
      "text/plain": [
       "{'message': 'We succeded in creating the chat!',\n",
       " 'result': '{\"_id\": {\"$oid\": \"5eafe272600f7debfe0ec2fd\"}, \"name\": \"new_chat2\", \"participants\": [{\"$oid\": \"5eaef30eb2a1eddbe451d919\"}, {\"$oid\": \"5eaef30db2a1eddbe451d917\"}]}'}"
      ]
     },
     "execution_count": 31,
     "metadata": {},
     "output_type": "execute_result"
    }
   ],
   "source": [
    "api_request('chat/create/new_chat2', params={'user':'VADER',\n",
    "                                          'user2':'LUKE'})"
   ]
  },
  {
   "cell_type": "markdown",
   "metadata": {},
   "source": [
    "## Adding one more member in a chat"
   ]
  },
  {
   "cell_type": "code",
   "execution_count": 32,
   "metadata": {},
   "outputs": [
    {
     "data": {
      "text/plain": [
       "{'Chat': '{\"_id\": {\"$oid\": \"5eafe25d600f7debfe0ec2fb\"}, \"name\": \"meet_yoda\", \"participants\": [{\"$oid\": \"5eafdb446f908dc415e0c396\"}]}',\n",
       " 'Message': 'We succeded in adding the user'}"
      ]
     },
     "execution_count": 32,
     "metadata": {},
     "output_type": "execute_result"
    }
   ],
   "source": [
    "api_request('chat/add_user', params={'chat':'meet_yoda','user':'YODA'})"
   ]
  },
  {
   "cell_type": "markdown",
   "metadata": {},
   "source": [
    "Forcing 'user in chat' error:"
   ]
  },
  {
   "cell_type": "code",
   "execution_count": 33,
   "metadata": {},
   "outputs": [
    {
     "data": {
      "text/plain": [
       "{'message': 'That user is already in the chat', 'status': 'error'}"
      ]
     },
     "execution_count": 33,
     "metadata": {},
     "output_type": "execute_result"
    }
   ],
   "source": [
    "api_request('chat/add_user', params={'chat':'meet_yoda','user':'YODA'})"
   ]
  },
  {
   "cell_type": "markdown",
   "metadata": {},
   "source": [
    "## Adding a message"
   ]
  },
  {
   "cell_type": "code",
   "execution_count": 35,
   "metadata": {},
   "outputs": [
    {
     "data": {
      "text/plain": [
       "{'entry': '{\"_id\": {\"$oid\": \"5eafe2ba600f7debfe0ec2fe\"}, \"chat\": {\"$oid\": \"5eafe25d600f7debfe0ec2fb\"}, \"user\": {\"$oid\": \"5eaeeff7f3372d0bb2c9be31\"}, \"time\": \"2020-05-04 09:39:06.071013\", \"text\": \"Hmmm. Much anger in him, like his father.\"}',\n",
       " 'status': 'We succeded in adding the message'}"
      ]
     },
     "execution_count": 35,
     "metadata": {},
     "output_type": "execute_result"
    }
   ],
   "source": [
    "api_request('message/YODA/add/', params={'chat':'meet_yoda','text':\"Hmmm. Much anger in him, like his father.\"})"
   ]
  },
  {
   "cell_type": "markdown",
   "metadata": {},
   "source": [
    "Adding a message and adding one more member in the chat:"
   ]
  },
  {
   "cell_type": "code",
   "execution_count": 36,
   "metadata": {},
   "outputs": [
    {
     "data": {
      "text/plain": [
       "{'entry': '{\"_id\": {\"$oid\": \"5eafe303600f7debfe0ec300\"}, \"chat\": {\"$oid\": \"5eafe25d600f7debfe0ec2fb\"}, \"user\": {\"$oid\": \"5eaef313b2a1eddbe451d92b\"}, \"time\": \"2020-05-04 09:40:19.458335\", \"text\": \"Was I any different when you taught me?\"}',\n",
       " 'status': 'We succeded in adding the message and added the user to the chat'}"
      ]
     },
     "execution_count": 36,
     "metadata": {},
     "output_type": "execute_result"
    }
   ],
   "source": [
    "api_request('message/BEN/add/', params={'chat':'meet_yoda','text':\"Was I any different when you taught me?\"})"
   ]
  },
  {
   "cell_type": "markdown",
   "metadata": {},
   "source": [
    "Forcing error 'user do not exist':"
   ]
  },
  {
   "cell_type": "code",
   "execution_count": 37,
   "metadata": {},
   "outputs": [
    {
     "data": {
      "text/plain": [
       "{'message': 'That user does not exist, you can create it with the endpoint /user/create/<user_name>',\n",
       " 'status': 'error'}"
      ]
     },
     "execution_count": 37,
     "metadata": {},
     "output_type": "execute_result"
    }
   ],
   "source": [
    "api_request('message/noname/add/', params={'chat':'meet_yoda','text':'Who am I?'})"
   ]
  },
  {
   "cell_type": "code",
   "execution_count": 280,
   "metadata": {},
   "outputs": [
    {
     "data": {
      "text/plain": [
       "{'entry': '{\"_id\": {\"$oid\": \"5eac62bee134338d84fc421a\"}, \"chat\": {\"$oid\": \"5eac43b5ddfd642fb48b72ed\"}, \"user\": {\"$oid\": \"5eac2dec7bfc0d4f44361cb8\"}, \"time\": \"2020-05-01 19:56:14.307952\", \"text\": \"Yes, so good\"}',\n",
       " 'status': 'We succeded in adding the message and added the user to the chat'}"
      ]
     },
     "execution_count": 280,
     "metadata": {},
     "output_type": "execute_result"
    }
   ],
   "source": [
    "api_request('message/Juana/add/', params={'chat':'Movies','text':'Yes, so good'})"
   ]
  },
  {
   "cell_type": "markdown",
   "metadata": {},
   "source": [
    "## Listing messages of a chat"
   ]
  },
  {
   "cell_type": "code",
   "execution_count": 38,
   "metadata": {},
   "outputs": [
    {
     "data": {
      "text/plain": [
       "{'0': {'name': 'VADER',\n",
       "  'text': \"I've been waiting for you, Obi-Wan.  We meet again, at last.  The circle is now complete.\",\n",
       "  'time': '2020-05-03 16:38:45.381369'},\n",
       " '1': {'name': 'VADER',\n",
       "  'text': 'When I left you, I was but the learner; now I am the master.',\n",
       "  'time': '2020-05-03 16:38:45.890932'},\n",
       " '2': {'name': 'BEN',\n",
       "  'text': 'Only a master of evil, Darth.',\n",
       "  'time': '2020-05-03 16:38:46.425325'},\n",
       " '3': {'name': 'VADER',\n",
       "  'text': 'Your powers are weak, old man.',\n",
       "  'time': '2020-05-03 16:38:46.901878'},\n",
       " '4': {'name': 'BEN',\n",
       "  'text': \"You can't win, Darth.  If you strike me down, I shall become more powerful than you can possibly imagine.\",\n",
       "  'time': '2020-05-03 16:38:47.270358'}}"
      ]
     },
     "execution_count": 38,
     "metadata": {},
     "output_type": "execute_result"
    }
   ],
   "source": [
    "api_request('message/15/list')"
   ]
  },
  {
   "cell_type": "markdown",
   "metadata": {},
   "source": [
    "From the new chat:\n"
   ]
  },
  {
   "cell_type": "code",
   "execution_count": 39,
   "metadata": {},
   "outputs": [
    {
     "data": {
      "text/plain": [
       "{'0': {'name': 'David',\n",
       "  'text': 'Hmmm. Much anger in him, like his father.',\n",
       "  'time': '2020-05-04 09:39:06.071013'},\n",
       " '1': {'name': 'YODA',\n",
       "  'text': 'Hmmm. Much anger in him, like his father.',\n",
       "  'time': '2020-05-04 09:39:34.408382'},\n",
       " '2': {'name': 'BEN',\n",
       "  'text': 'Was I any different when you taught me?',\n",
       "  'time': '2020-05-04 09:40:19.458335'}}"
      ]
     },
     "execution_count": 39,
     "metadata": {},
     "output_type": "execute_result"
    }
   ],
   "source": [
    "api_request('message/meet_yoda/list')"
   ]
  },
  {
   "cell_type": "markdown",
   "metadata": {},
   "source": [
    "## Sentiment analysis of a chat:"
   ]
  },
  {
   "cell_type": "code",
   "execution_count": 40,
   "metadata": {},
   "outputs": [
    {
     "data": {
      "text/plain": [
       "{'compound': -0.5267, 'neg': 0.303, 'neu': 0.492, 'pos': 0.205}"
      ]
     },
     "execution_count": 40,
     "metadata": {},
     "output_type": "execute_result"
    }
   ],
   "source": [
    "api_request('chat/meet_yoda/sentiment')"
   ]
  },
  {
   "cell_type": "markdown",
   "metadata": {},
   "source": [
    "## Sentiment analysis of a user:"
   ]
  },
  {
   "cell_type": "markdown",
   "metadata": {},
   "source": [
    "As expected LUKE has a very positive index whereas VADER is quite negative:"
   ]
  },
  {
   "cell_type": "code",
   "execution_count": 41,
   "metadata": {},
   "outputs": [
    {
     "data": {
      "text/plain": [
       "{'compound': 0.9972, 'neg': 0.075, 'neu': 0.705, 'pos': 0.219}"
      ]
     },
     "execution_count": 41,
     "metadata": {},
     "output_type": "execute_result"
    }
   ],
   "source": [
    "api_request('user/LUKE/sentiment')"
   ]
  },
  {
   "cell_type": "code",
   "execution_count": 42,
   "metadata": {},
   "outputs": [
    {
     "data": {
      "text/plain": [
       "{'compound': -0.9602, 'neg': 0.235, 'neu': 0.634, 'pos': 0.131}"
      ]
     },
     "execution_count": 42,
     "metadata": {},
     "output_type": "execute_result"
    }
   ],
   "source": [
    "api_request('user/VADER/sentiment')"
   ]
  },
  {
   "cell_type": "markdown",
   "metadata": {},
   "source": [
    "## Recommender:"
   ]
  },
  {
   "cell_type": "markdown",
   "metadata": {},
   "source": [
    "The recommender takes a paramether that can be of two forms, either sentiment or similar. The recommendations will be based on the sentiment of a user or on the content of the messages of a user respectively. "
   ]
  },
  {
   "cell_type": "code",
   "execution_count": 43,
   "metadata": {},
   "outputs": [
    {
     "data": {
      "text/plain": [
       "{'Similar users': ['HAN', 'BIGGS', 'LEIA']}"
      ]
     },
     "execution_count": 43,
     "metadata": {},
     "output_type": "execute_result"
    }
   ],
   "source": [
    "api_request('/user/LUKE/recommend',{'type':'sentiment'})"
   ]
  },
  {
   "cell_type": "code",
   "execution_count": 44,
   "metadata": {},
   "outputs": [
    {
     "data": {
      "text/plain": [
       "{'Similar users': ['HAN', 'BIGGS', 'BEN']}"
      ]
     },
     "execution_count": 44,
     "metadata": {},
     "output_type": "execute_result"
    }
   ],
   "source": [
    "api_request('/user/LUKE/recommend',{'type':'similar'})"
   ]
  },
  {
   "cell_type": "code",
   "execution_count": 45,
   "metadata": {},
   "outputs": [
    {
     "data": {
      "text/plain": [
       "{'Similar users': ['BEN', 'HAN', 'LUKE']}"
      ]
     },
     "execution_count": 45,
     "metadata": {},
     "output_type": "execute_result"
    }
   ],
   "source": [
    "api_request('/user/VADER/recommend',{'type':'similar'})"
   ]
  },
  {
   "cell_type": "code",
   "execution_count": 46,
   "metadata": {},
   "outputs": [
    {
     "data": {
      "text/plain": [
       "{'Similar users': ['MOTTI', 'TARKIN', 'TAGGE']}"
      ]
     },
     "execution_count": 46,
     "metadata": {},
     "output_type": "execute_result"
    }
   ],
   "source": [
    "api_request('/user/VADER/recommend',{'type':'sentiment'})"
   ]
  },
  {
   "cell_type": "markdown",
   "metadata": {},
   "source": [
    "Forcing paramether errors:"
   ]
  },
  {
   "cell_type": "code",
   "execution_count": 47,
   "metadata": {},
   "outputs": [
    {
     "data": {
      "text/plain": [
       "{'message': 'This endpoint requires a paramether type= \"similar\" or type=\"sentiment\"',\n",
       " 'status': 'error'}"
      ]
     },
     "execution_count": 47,
     "metadata": {},
     "output_type": "execute_result"
    }
   ],
   "source": [
    "api_request('/user/VADER/recommend')"
   ]
  },
  {
   "cell_type": "code",
   "execution_count": 48,
   "metadata": {},
   "outputs": [
    {
     "data": {
      "text/plain": [
       "{'message': 'The type parameter must be either \"similar\" or \"sentiment\"',\n",
       " 'status': 'error'}"
      ]
     },
     "execution_count": 48,
     "metadata": {},
     "output_type": "execute_result"
    }
   ],
   "source": [
    "api_request('/user/VADER/recommend',{'type':'ñlkj'})"
   ]
  }
 ],
 "metadata": {
  "kernelspec": {
   "display_name": "Python 3.6.9 64-bit",
   "language": "python",
   "name": "python36964bit36b15ce491344c3aaf77177bbb6e80c7"
  },
  "language_info": {
   "codemirror_mode": {
    "name": "ipython",
    "version": 3
   },
   "file_extension": ".py",
   "mimetype": "text/x-python",
   "name": "python",
   "nbconvert_exporter": "python",
   "pygments_lexer": "ipython3",
   "version": "3.6.9"
  }
 },
 "nbformat": 4,
 "nbformat_minor": 2
}
